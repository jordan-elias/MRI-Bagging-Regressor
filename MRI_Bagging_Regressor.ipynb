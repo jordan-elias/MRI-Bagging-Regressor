{
 "cells": [
  {
   "cell_type": "markdown",
   "metadata": {},
   "source": [
    "### Predicting age and assessment values from two domains using features derived from brain MRI images as inputs.\n",
    "\n",
    "\n",
    "From sklearn:\n",
    "\"A Bagging regressor is an ensemble meta-estimator that fits base regressors each on random subsets of the original dataset and then aggregate their individual predictions (either by voting or by averaging) to form a final prediction. Such a meta-estimator can typically be used as a way to reduce the variance of a black-box estimator (e.g., a decision tree), by introducing randomization into its construction procedure and then making an ensemble out of it.\""
   ]
  },
  {
   "cell_type": "code",
   "execution_count": 2,
   "metadata": {},
   "outputs": [],
   "source": [
    "import numpy as np\n",
    "import pandas as pd\n",
    "from sklearn.svm import SVR\n",
    "from sklearn import linear_model\n",
    "from sklearn.model_selection import KFold\n",
    "from sklearn.ensemble import BaggingRegressor"
   ]
  },
  {
   "cell_type": "code",
   "execution_count": null,
   "metadata": {},
   "outputs": [],
   "source": [
    "def metric(y_true, y_pred):\n",
    "    return np.mean(np.sum(np.abs(y_true - y_pred), axis=0)/np.sum(y_true, axis=0))"
   ]
  },
  {
   "cell_type": "code",
   "execution_count": 4,
   "metadata": {},
   "outputs": [],
   "source": [
    "fnc_df = pd.read_csv('MRI_dataset/fnc.csv')"
   ]
  },
  {
   "cell_type": "code",
   "execution_count": 6,
   "metadata": {},
   "outputs": [],
   "source": [
    "loading_df = pd.read_csv('MRI_dataset/loading.csv')\n",
    "\n",
    "fnc_features, loading_features = list(fnc_df.columns[1:]), list(loading_df.columns[1:])\n",
    "features = loading_features + fnc_features\n",
    "df = fnc_df.merge(loading_df, on=\"Id\")"
   ]
  },
  {
   "cell_type": "code",
   "execution_count": 7,
   "metadata": {},
   "outputs": [],
   "source": [
    "labels_df = pd.read_csv('MRI_dataset/train_scores.csv')\n",
    "labels_df[\"is_train\"] = True\n",
    "\n",
    "df = df.merge(labels_df, on=\"Id\", how=\"left\")\n",
    "\n",
    "test_df = df[df[\"is_train\"] != True].copy()\n",
    "df = df[df[\"is_train\"] == True].copy()"
   ]
  },
  {
   "cell_type": "code",
   "execution_count": 8,
   "metadata": {},
   "outputs": [],
   "source": [
    "# Giving less importance to FNC features since they are easier to overfit due to high dimensionality.\n",
    "FNC_SCALE = 1/600\n",
    "\n",
    "df[fnc_features] *= FNC_SCALE\n",
    "test_df[fnc_features] *= FNC_SCALE"
   ]
  },
  {
   "cell_type": "code",
   "execution_count": 9,
   "metadata": {},
   "outputs": [],
   "source": [
    "# Take a copy of the main dataframe, to report on per-target scores for each model.\n",
    "df_model1 = df.copy()\n",
    "df_model2 = df.copy()\n",
    "df_model3 = df.copy()\n",
    "\n",
    "NUM_FOLDS = 7\n",
    "kf = KFold(n_splits=NUM_FOLDS, shuffle=True, random_state=0)\n",
    "\n",
    "features = loading_features + fnc_features\n"
   ]
  },
  {
   "cell_type": "code",
   "execution_count": 10,
   "metadata": {},
   "outputs": [],
   "source": [
    "# Blending weights between the three models are specified separately for the 5 targets. \n",
    "#                                 SVR,  Ridge, BaggingRegressor\n",
    "blend_weights = {\"age\":          [0.4,  0.55,  0.05],\n",
    "                 \"domain1_var1\": [0.55, 0.15,  0.3],\n",
    "                 \"domain1_var2\": [0.45, 0.0,   0.55],\n",
    "                 \"domain2_var1\": [0.55, 0.15,  0.3],\n",
    "                 \"domain2_var2\": [0.5,  0.05,  0.45]}"
   ]
  },
  {
   "cell_type": "code",
   "execution_count": 15,
   "metadata": {},
   "outputs": [
    {
     "name": "stdout",
     "output_type": "stream",
     "text": [
      "For age:\n",
      "SVR: 0.144158\n",
      "Ridge: 0.143463\n",
      "BaggingRegressor: 0.15619\n",
      "Ensemble: 0.142335\n",
      "\n",
      "For domain1_var1:\n",
      "SVR: 0.151293\n",
      "Ridge: 0.1537\n",
      "BaggingRegressor: 0.151566\n",
      "Ensemble: 0.15067\n",
      "\n",
      "For domain1_var2:\n",
      "SVR: 0.151021\n",
      "Ridge: 0.15582\n",
      "BaggingRegressor: 0.151204\n",
      "Ensemble: 0.15079\n",
      "\n",
      "For domain2_var1:\n",
      "SVR: 0.181687\n",
      "Ridge: 0.185433\n",
      "BaggingRegressor: 0.18241\n",
      "Ensemble: 0.18116\n",
      "\n",
      "For domain2_var2:\n",
      "SVR: 0.17621\n",
      "Ridge: 0.1804\n",
      "BaggingRegressor: 0.176257\n",
      "Ensemble: 0.175727\n",
      "\n",
      "Overall score: 0.157911\n"
     ]
    }
   ],
   "source": [
    "overall_score = 0\n",
    "for target, c, w in [(\"age\", 60, 0.3), (\"domain1_var1\", 12, 0.175), (\"domain1_var2\", 8, 0.175), (\"domain2_var1\", 9, 0.175), (\"domain2_var2\", 12, 0.175)]:    \n",
    "    y_oof = np.zeros(df.shape[0])\n",
    "    y_oof_model_1 = np.zeros(df.shape[0])\n",
    "    y_oof_model_2 = np.zeros(df.shape[0])\n",
    "    y_oof_model_3 = np.zeros(df.shape[0])\n",
    "    y_test = np.zeros((test_df.shape[0], NUM_FOLDS))\n",
    "    \n",
    "    for f, (train_ind, val_ind) in enumerate(kf.split(df, df)):\n",
    "        train_df, val_df = df.iloc[train_ind], df.iloc[val_ind]\n",
    "        train_df = train_df[train_df[target].notnull()]\n",
    "\n",
    "        model_1 = SVR(C=c, cache_size=3000.0)\n",
    "        model_1.fit(train_df[features].values, train_df[target].values)\n",
    "        model_2 = linear_model.Ridge(alpha = 0.0001)\n",
    "        model_2.fit(train_df[features].values, train_df[target].values)\n",
    "        \n",
    "        ### The BaggingRegressor, using the Ridge regression method as a base, is added here. The BaggingRegressor\n",
    "        # is from sklearn\n",
    "        model_3 = BaggingRegressor(linear_model.Ridge(alpha = 0.0001), n_estimators=30, random_state=42, max_samples=0.3, max_features=0.3)\n",
    "        model_3.fit(train_df[features].values, train_df[target].values)\n",
    "\n",
    "        val_pred_1 = model_1.predict(val_df[features])\n",
    "        val_pred_2 = model_2.predict(val_df[features])\n",
    "        val_pred_3 = model_3.predict(val_df[features])\n",
    "        \n",
    "        test_pred_1 = model_1.predict(test_df[features])\n",
    "        test_pred_2 = model_2.predict(test_df[features])\n",
    "        test_pred_3 = model_3.predict(test_df[features])\n",
    "        \n",
    "        val_pred = blend_weights[target][0]*val_pred_1+blend_weights[target][1]*val_pred_2+blend_weights[target][2]*val_pred_3\n",
    "        val_pred = val_pred.flatten()\n",
    "        \n",
    "        test_pred = blend_weights[target][0]*test_pred_1+blend_weights[target][1]*test_pred_2+blend_weights[target][2]*test_pred_3\n",
    "        test_pred = test_pred.flatten()\n",
    "        \n",
    "        y_oof[val_ind] = val_pred\n",
    "        y_oof_model_1[val_ind] = val_pred_1\n",
    "        y_oof_model_2[val_ind] = val_pred_2\n",
    "        y_oof_model_3[val_ind] = val_pred_3\n",
    "        y_test[:, f] = test_pred\n",
    "        \n",
    "    df[\"pred_{}\".format(target)] = y_oof\n",
    "    df_model1[\"pred_{}\".format(target)] = y_oof_model_1\n",
    "    df_model2[\"pred_{}\".format(target)] = y_oof_model_2\n",
    "    df_model3[\"pred_{}\".format(target)] = y_oof_model_3\n",
    "    test_df[target] = y_test.mean(axis=1)\n",
    "    \n",
    "    score = metric(df[df[target].notnull()][target].values, df[df[target].notnull()][\"pred_{}\".format(target)].values)\n",
    "    overall_score += w*score\n",
    "    \n",
    "    score_model1 = metric(df_model1[df_model1[target].notnull()][target].values, df_model1[df_model1[target].notnull()][\"pred_{}\".format(target)].values)\n",
    "    score_model2 = metric(df_model2[df_model2[target].notnull()][target].values, df_model2[df_model1[target].notnull()][\"pred_{}\".format(target)].values)\n",
    "    score_model3 = metric(df_model3[df_model3[target].notnull()][target].values, df_model3[df_model1[target].notnull()][\"pred_{}\".format(target)].values)\n",
    "\n",
    "    print(f\"For {target}:\")\n",
    "    print(\"SVR:\", np.round(score_model1, 6))\n",
    "    print(\"Ridge:\", np.round(score_model2, 6))\n",
    "    print(\"BaggingRegressor:\", np.round(score_model3, 6))\n",
    "    print(\"Ensemble:\", np.round(score, 6))\n",
    "    print()\n",
    "    \n",
    "print(\"Overall score:\", np.round(overall_score, 6))"
   ]
  },
  {
   "cell_type": "code",
   "execution_count": 37,
   "metadata": {},
   "outputs": [],
   "source": [
    "sub_df = pd.melt(test_df[[\"Id\", \"age\", \"domain1_var1\", \"domain1_var2\", \"domain2_var1\", \"domain2_var2\"]], id_vars=[\"Id\"], value_name=\"Predicted\")"
   ]
  },
  {
   "cell_type": "code",
   "execution_count": 38,
   "metadata": {},
   "outputs": [],
   "source": [
    "sub_df[\"Id\"] = sub_df[\"Id\"].astype(\"str\") + \"_\" +  sub_df[\"variable\"].astype(\"str\")\n",
    "\n",
    "sub_df = sub_df.drop(\"variable\", axis=1).sort_values(\"Id\")\n",
    "assert sub_df.shape[0] == test_df.shape[0]*5"
   ]
  },
  {
   "cell_type": "code",
   "execution_count": 39,
   "metadata": {},
   "outputs": [
    {
     "data": {
      "text/html": [
       "<div>\n",
       "<style scoped>\n",
       "    .dataframe tbody tr th:only-of-type {\n",
       "        vertical-align: middle;\n",
       "    }\n",
       "\n",
       "    .dataframe tbody tr th {\n",
       "        vertical-align: top;\n",
       "    }\n",
       "\n",
       "    .dataframe thead th {\n",
       "        text-align: right;\n",
       "    }\n",
       "</style>\n",
       "<table border=\"1\" class=\"dataframe\">\n",
       "  <thead>\n",
       "    <tr style=\"text-align: right;\">\n",
       "      <th></th>\n",
       "      <th>Id</th>\n",
       "      <th>Predicted</th>\n",
       "    </tr>\n",
       "  </thead>\n",
       "  <tbody>\n",
       "    <tr>\n",
       "      <th>0</th>\n",
       "      <td>10003_age</td>\n",
       "      <td>55.886192</td>\n",
       "    </tr>\n",
       "    <tr>\n",
       "      <th>5877</th>\n",
       "      <td>10003_domain1_var1</td>\n",
       "      <td>50.338737</td>\n",
       "    </tr>\n",
       "    <tr>\n",
       "      <th>11754</th>\n",
       "      <td>10003_domain1_var2</td>\n",
       "      <td>59.508279</td>\n",
       "    </tr>\n",
       "    <tr>\n",
       "      <th>17631</th>\n",
       "      <td>10003_domain2_var1</td>\n",
       "      <td>48.823294</td>\n",
       "    </tr>\n",
       "    <tr>\n",
       "      <th>23508</th>\n",
       "      <td>10003_domain2_var2</td>\n",
       "      <td>56.867111</td>\n",
       "    </tr>\n",
       "    <tr>\n",
       "      <th>1</th>\n",
       "      <td>10006_age</td>\n",
       "      <td>63.080919</td>\n",
       "    </tr>\n",
       "    <tr>\n",
       "      <th>5878</th>\n",
       "      <td>10006_domain1_var1</td>\n",
       "      <td>54.534685</td>\n",
       "    </tr>\n",
       "    <tr>\n",
       "      <th>11755</th>\n",
       "      <td>10006_domain1_var2</td>\n",
       "      <td>59.363543</td>\n",
       "    </tr>\n",
       "    <tr>\n",
       "      <th>17632</th>\n",
       "      <td>10006_domain2_var1</td>\n",
       "      <td>48.851530</td>\n",
       "    </tr>\n",
       "    <tr>\n",
       "      <th>23509</th>\n",
       "      <td>10006_domain2_var2</td>\n",
       "      <td>52.202746</td>\n",
       "    </tr>\n",
       "  </tbody>\n",
       "</table>\n",
       "</div>"
      ],
      "text/plain": [
       "                       Id  Predicted\n",
       "0               10003_age  55.886192\n",
       "5877   10003_domain1_var1  50.338737\n",
       "11754  10003_domain1_var2  59.508279\n",
       "17631  10003_domain2_var1  48.823294\n",
       "23508  10003_domain2_var2  56.867111\n",
       "1               10006_age  63.080919\n",
       "5878   10006_domain1_var1  54.534685\n",
       "11755  10006_domain1_var2  59.363543\n",
       "17632  10006_domain2_var1  48.851530\n",
       "23509  10006_domain2_var2  52.202746"
      ]
     },
     "execution_count": 39,
     "metadata": {},
     "output_type": "execute_result"
    }
   ],
   "source": [
    "sub_df.head(10)"
   ]
  }
 ],
 "metadata": {
  "kernelspec": {
   "display_name": "Python 3",
   "language": "python",
   "name": "python3"
  },
  "language_info": {
   "codemirror_mode": {
    "name": "ipython",
    "version": 3
   },
   "file_extension": ".py",
   "mimetype": "text/x-python",
   "name": "python",
   "nbconvert_exporter": "python",
   "pygments_lexer": "ipython3",
   "version": "3.8.3"
  }
 },
 "nbformat": 4,
 "nbformat_minor": 4
}
